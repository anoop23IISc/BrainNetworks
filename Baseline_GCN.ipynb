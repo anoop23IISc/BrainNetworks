{
 "cells": [
  {
   "cell_type": "code",
   "execution_count": null,
   "metadata": {},
   "outputs": [],
   "source": [
    "!pip3 install stellargraph\n",
    "!pip3 install pandas\n",
    "!pip3 install sklearn"
   ]
  },
  {
   "cell_type": "code",
   "execution_count": null,
   "metadata": {},
   "outputs": [],
   "source": [
    "import pickle\n",
    "import numpy as np\n",
    "import pandas as pd\n",
    "import sklearn\n",
    "import tensorflow as tf\n",
    "from copy import deepcopy\n",
    "from stellargraph import StellarGraph\n",
    "import time"
   ]
  },
  {
   "cell_type": "code",
   "execution_count": null,
   "metadata": {},
   "outputs": [],
   "source": [
    "!pwd"
   ]
  },
  {
   "cell_type": "code",
   "execution_count": null,
   "metadata": {},
   "outputs": [],
   "source": [
    "all_sub_adjMat = np.load(\"vibha_preprop_adni/correlation_matrices.npy\")\n",
    "sub_names = np.load(\"vibha_preprop_adni/filenamelist.npy\", allow_pickle= True)\n",
    "print(len(all_sub_adjMat), len(sub_names))"
   ]
  },
  {
   "cell_type": "code",
   "execution_count": null,
   "metadata": {},
   "outputs": [],
   "source": [
    "subnames = [str(i)[5:15] for i in sub_names]\n",
    "print(len(subnames), subnames[:5])"
   ]
  },
  {
   "cell_type": "code",
   "execution_count": null,
   "metadata": {},
   "outputs": [],
   "source": [
    "with open('/home/anoopkumar/adni/anoop/bck/filelist.txt') as f:\n",
    "    content = f.readlines()\n",
    "content = [x.strip() for x in content]\n",
    "content.pop(-1)\n",
    "print(len(content))"
   ]
  },
  {
   "cell_type": "code",
   "execution_count": null,
   "metadata": {},
   "outputs": [],
   "source": [
    "df = pd.read_csv('/home/anoopkumar/adni/anoop/bck/xlabel.csv') # can also index sheet by name or fetch all sheets\n",
    "label = df['Group'].tolist()\n",
    "subject = df['Subject'].tolist()\n",
    "print(len(label),label[:5], subject[:5])"
   ]
  },
  {
   "cell_type": "code",
   "execution_count": null,
   "metadata": {},
   "outputs": [],
   "source": [
    "adni90_feature = []\n",
    "adni90_labels = []\n",
    "adni90_adjmat = []\n",
    "\n",
    "for x,i in enumerate(subnames):\n",
    "    ind = subject.index(i)\n",
    "    adni90_labels.append(label[ind])\n",
    "    adni90_feature.append(all_sub_adjMat[x])\n",
    "\n",
    "for i in adni90_feature:\n",
    "    temp = np.zeros((90,90))\n",
    "    for x in range(90):\n",
    "        for y in range(90):\n",
    "            if i[x][y] > 0.15:\n",
    "                temp[x][y] = 1\n",
    "    adni90_adjmat.append(list(temp))\n",
    "            \n",
    "    \n",
    "print(len(adni90_labels), len(adni90_adjmat), len(adni90_feature))"
   ]
  },
  {
   "cell_type": "code",
   "execution_count": null,
   "metadata": {},
   "outputs": [],
   "source": [
    "############################# gcn code ###############################################################"
   ]
  },
  {
   "cell_type": "code",
   "execution_count": null,
   "metadata": {},
   "outputs": [],
   "source": [
    "all_sg = [[] for i in range(152)]\n",
    "\n",
    "for count, sub in enumerate(adni90_adjmat):\n",
    "    np.fill_diagonal(np.array(sub), np.nan)\n",
    "    df = pd.DataFrame(sub)\n",
    "    df = df.stack().reset_index()\n",
    "    df.columns = ['a','b','c']\n",
    "    isedge = df['c'] == 1\n",
    "    dfn = df[isedge]\n",
    "    pairs = list(zip(dfn['a'], dfn['b']))\n",
    "    for i in pairs:\n",
    "            a, b = i\n",
    "            if (b,a) not in all_sg[count]:\n",
    "                all_sg[count].append(i)"
   ]
  },
  {
   "cell_type": "code",
   "execution_count": null,
   "metadata": {},
   "outputs": [],
   "source": [
    "print(len(all_sg))\n",
    "print(len(all_sg[0]))"
   ]
  },
  {
   "cell_type": "code",
   "execution_count": null,
   "metadata": {},
   "outputs": [],
   "source": [
    "all_sg_lr = [[] for _ in range(152)]\n",
    "\n",
    "for i,x in enumerate(all_sg):\n",
    "    all_sg_lr[i] = [[],[]]\n",
    "    for pair in x:\n",
    "        a, b = pair\n",
    "        all_sg_lr[i][0].append(a)\n",
    "        all_sg_lr[i][1].append(b)\n",
    "        "
   ]
  },
  {
   "cell_type": "code",
   "execution_count": null,
   "metadata": {},
   "outputs": [],
   "source": [
    "# for featue\n",
    "\n",
    "all_sub_fea = []\n",
    "for i in adni90_feature:\n",
    "    fead = pd.DataFrame(i)\n",
    "    all_sub_fea.append(fead)"
   ]
  },
  {
   "cell_type": "code",
   "execution_count": null,
   "metadata": {},
   "outputs": [],
   "source": [
    "graphs = []\n",
    "\n",
    "for i,one_sglr in enumerate(all_sg_lr):\n",
    "    dic = {\"source\": one_sglr[0],\"target\":one_sglr[1]}\n",
    "    one = pd.DataFrame(dic)\n",
    "    graphs.append(StellarGraph(all_sub_fea[i], edge = one))"
   ]
  },
  {
   "cell_type": "code",
   "execution_count": null,
   "metadata": {},
   "outputs": [],
   "source": [
    "print(graphs[1].info())"
   ]
  },
  {
   "cell_type": "code",
   "execution_count": null,
   "metadata": {},
   "outputs": [],
   "source": [
    "summary = pd.DataFrame(\n",
    "    [(g.number_of_nodes(), g.number_of_edges()) for g in graphs],\n",
    "    columns=[\"nodes\", \"edges\"],\n",
    ")\n",
    "summary.describe().round(1)"
   ]
  },
  {
   "cell_type": "code",
   "execution_count": null,
   "metadata": {},
   "outputs": [],
   "source": [
    "\n",
    "################### EMCI Vs LMCI  #############################\n",
    "graph_labels = []\n",
    "rem_ad = []\n",
    "exp1 = []\n",
    "for c,i in enumerate(adni90_labels):\n",
    "    if i == 'EMCI':\n",
    "        graph_labels.append(1)\n",
    "        exp1.append(graphs[c])\n",
    "    elif i == 'LMCI':\n",
    "        graph_labels.append(-1)\n",
    "        exp1.append(graphs[c])\n",
    "    else:\n",
    "        rem_ad.append(c)\n",
    "   \n",
    "\n",
    "################## AD Vs NC ################################\n",
    "# graph_labels = []\n",
    "# rem_ad = []\n",
    "# exp1 = []\n",
    "# for c,i in enumerate(all_sub_label):\n",
    "#     if i == 'AD':\n",
    "#         graph_labels.append(1)\n",
    "#         exp1.append(graphs[c])\n",
    "#     elif i == 'CN':\n",
    "#         graph_labels.append(-1)\n",
    "#         exp1.append(graphs[c])\n",
    "#     else:\n",
    "#         rem_ad.append(c)\n",
    "\n",
    "\n",
    "################  AD Vs MCI ###############################\n",
    "# graph_labels = []\n",
    "# rem_ad = []\n",
    "# exp1 = []\n",
    "# for c,i in enumerate(all_sub_label):\n",
    "#     if i == 'EMCI' or i == 'LMCI' or i == 'MCI':\n",
    "#         graph_labels.append(1)\n",
    "#         exp1.append(graphs[c])\n",
    "#     elif i == 'AD':\n",
    "#         graph_labels.append(-1)\n",
    "#         exp1.append(graphs[c])\n",
    "#     else:\n",
    "#         rem_ad.append(c)\n",
    "   \n",
    "   \n",
    "\n",
    "\n",
    "########### MCI Vs NC ##########################\n",
    "# graph_labels = []\n",
    "# rem_ad = []\n",
    "# exp1 = []\n",
    "# for c,i in enumerate(all_sub_label):\n",
    "#     if i == 'EMCI' or i == 'LMCI' or i == 'MCI':\n",
    "#         graph_labels.append(1)\n",
    "#         exp1.append(graphs[c])\n",
    "#     elif i == 'CN':\n",
    "#         graph_labels.append(-1)\n",
    "#         exp1.append(graphs[c])\n",
    "#     else:\n",
    "#         rem_ad.append(c)\n",
    "    "
   ]
  },
  {
   "cell_type": "code",
   "execution_count": null,
   "metadata": {},
   "outputs": [],
   "source": [
    "print(len(exp1), len (graph_labels))"
   ]
  },
  {
   "cell_type": "code",
   "execution_count": null,
   "metadata": {},
   "outputs": [],
   "source": [
    "pd.Series(graph_labels).value_counts().to_frame()"
   ]
  },
  {
   "cell_type": "code",
   "execution_count": null,
   "metadata": {},
   "outputs": [],
   "source": [
    "graph_labels = pd.get_dummies(graph_labels, drop_first=True)\n",
    "# print(graph_labels)"
   ]
  },
  {
   "cell_type": "code",
   "execution_count": null,
   "metadata": {},
   "outputs": [],
   "source": [
    "\n",
    "##############################################################################################"
   ]
  },
  {
   "cell_type": "code",
   "execution_count": null,
   "metadata": {},
   "outputs": [],
   "source": [
    "    import pandas as pd\n",
    "    import numpy as np\n",
    "\n",
    "    import stellargraph as sg\n",
    "    from stellargraph.mapper import PaddedGraphGenerator\n",
    "    from stellargraph.layer import GCNSupervisedGraphClassification\n",
    "    from stellargraph import StellarGraph\n",
    "\n",
    "    from stellargraph import datasets\n",
    "    import sklearn\n",
    "    from sklearn import model_selection\n",
    "    from sklearn.metrics import balanced_accuracy_score\n",
    "    from IPython.display import display, HTML\n",
    "\n",
    "    from tensorflow.keras import Model\n",
    "    from tensorflow.keras.optimizers import Adam\n",
    "    from tensorflow.keras.layers import Dense\n",
    "    from tensorflow.keras.losses import binary_crossentropy\n",
    "    from tensorflow.keras.callbacks import EarlyStopping\n",
    "    import tensorflow.keras.metrics\n",
    "    import tensorflow as tf\n",
    "    import matplotlib.pyplot as plt"
   ]
  },
  {
   "cell_type": "code",
   "execution_count": null,
   "metadata": {},
   "outputs": [],
   "source": [
    "generator = PaddedGraphGenerator(graphs=exp1)"
   ]
  },
  {
   "cell_type": "code",
   "execution_count": null,
   "metadata": {},
   "outputs": [],
   "source": [
    "def create_graph_classification_model(generator):\n",
    "    gc_model = GCNSupervisedGraphClassification(\n",
    "        layer_sizes=[128, 128, 128,128],\n",
    "        activations=[\"relu\", \"relu\",\"relu\", \"relu\"],\n",
    "        generator=generator,\n",
    "        dropout=0.5,\n",
    "    )\n",
    "    x_inp, x_out = gc_model.in_out_tensors()\n",
    "    predictions = Dense(units=256, activation=\"relu\")(x_out)\n",
    "    predictions = Dense(units=128, activation=\"relu\")(predictions)\n",
    "    \n",
    "    predictions = Dense(units=64, activation=\"relu\")(predictions)\n",
    "    \n",
    "    predictions = Dense(units=32, activation=\"relu\")(predictions)\n",
    "    \n",
    "    predictions = Dense(units=16, activation=\"relu\")(predictions)\n",
    "    predictions = Dense(units=1, activation=\"sigmoid\")(predictions)\n",
    "\n",
    "    # Let's create the Keras model and prepare it for training\n",
    "    model = Model(inputs=x_inp, outputs=predictions)\n",
    "#     model.compile(optimizer=Adam(0.005), loss=binary_crossentropy, metrics=[\"acc\"]) \n",
    "    model.compile(optimizer=Adam(0.005), loss=binary_crossentropy, metrics=[\"acc\",tf.keras.metrics.AUC()])\n",
    "\n",
    "    return model"
   ]
  },
  {
   "cell_type": "code",
   "execution_count": null,
   "metadata": {},
   "outputs": [],
   "source": [
    "epochs = 200  # maximum number of training epochs\n",
    "folds = 32 # the number of folds for k-fold cross validation\n",
    "n_repeats = 5  # the number of repeats for repeated k-fold cross validation"
   ]
  },
  {
   "cell_type": "code",
   "execution_count": null,
   "metadata": {},
   "outputs": [],
   "source": [
    "es = EarlyStopping(\n",
    "    monitor=\"val_loss\", min_delta=0, patience=25, restore_best_weights=True\n",
    ")"
   ]
  },
  {
   "cell_type": "code",
   "execution_count": null,
   "metadata": {},
   "outputs": [],
   "source": [
    "def train_fold(model, train_gen, test_gen, es, epochs):\n",
    "    history = model.fit(\n",
    "        train_gen, epochs=epochs, validation_data=test_gen, verbose=0, callbacks=[es],\n",
    "    )\n",
    "    # calculate performance on the test data and return along with history\n",
    "    \n",
    "    test_metrics = model.evaluate(test_gen, verbose=0)\n",
    "#     print(model.metrics_names)\n",
    "    test_acc = test_metrics[model.metrics_names.index(\"acc\")]\n",
    "#     test_bacc = test_metrics[3]\n",
    "    test_auc = test_metrics[2]\n",
    "    \n",
    "\n",
    "    return history, test_acc, test_auc"
   ]
  },
  {
   "cell_type": "code",
   "execution_count": null,
   "metadata": {},
   "outputs": [],
   "source": [
    "def get_generators(train_index, test_index, graph_labels, batch_size):\n",
    "    train_gen = generator.flow(\n",
    "        train_index, targets=graph_labels.iloc[train_index].values, batch_size=batch_size\n",
    "    )\n",
    "    test_gen = generator.flow(\n",
    "        test_index, targets=graph_labels.iloc[test_index].values, batch_size=batch_size\n",
    "    )\n",
    "\n",
    "    return train_gen, test_gen"
   ]
  },
  {
   "cell_type": "code",
   "execution_count": null,
   "metadata": {},
   "outputs": [],
   "source": [
    "test_accs = []\n",
    "# test_raccs = []\n",
    "# test_baccs = []\n",
    "test_aucs = []\n",
    "start = time.time()\n",
    "\n",
    "\n",
    "stratified_folds = model_selection.RepeatedStratifiedKFold(\n",
    "    n_splits=folds, n_repeats=n_repeats\n",
    ").split(graph_labels, graph_labels)\n",
    "\n",
    "for i, (train_index, test_index) in enumerate(stratified_folds):\n",
    "    print(f\"Training and evaluating on fold {i+1} out of {folds * n_repeats}...\")\n",
    "    train_gen, test_gen = get_generators(\n",
    "        train_index, test_index, graph_labels, batch_size=30\n",
    "    )\n",
    "\n",
    "    model = create_graph_classification_model(generator)\n",
    "    history, acc, auc = train_fold(model, train_gen, test_gen, es, epochs)\n",
    "    \n",
    "#     history, acc = train_fold(model, train_gen, test_gen, es, epochs)\n",
    "\n",
    "    test_accs.append(acc)\n",
    "#     test_raccs.append(racc)\n",
    "    test_aucs.append(auc)\n",
    "\n",
    "end = time.time()\n",
    "print(end - start)"
   ]
  },
  {
   "cell_type": "code",
   "execution_count": null,
   "metadata": {},
   "outputs": [],
   "source": [
    "print(\n",
    "    f\"Accuracy over all folds mean: {np.mean(test_accs)*100:.3}% and std: {np.std(test_accs)*100:.2}% and auc: {np.mean(test_aucs)}\"\n",
    ")"
   ]
  },
  {
   "cell_type": "code",
   "execution_count": null,
   "metadata": {},
   "outputs": [],
   "source": [
    "plt.figure(figsize=(8, 6))\n",
    "plt.hist(test_accs)\n",
    "plt.xlabel(\"Accuracy\")\n",
    "plt.ylabel(\"Count\")"
   ]
  }
 ],
 "metadata": {
  "kernelspec": {
   "display_name": "Python 3",
   "language": "python",
   "name": "python3"
  },
  "language_info": {
   "codemirror_mode": {
    "name": "ipython",
    "version": 3
   },
   "file_extension": ".py",
   "mimetype": "text/x-python",
   "name": "python",
   "nbconvert_exporter": "python",
   "pygments_lexer": "ipython3",
   "version": "3.7.6"
  }
 },
 "nbformat": 4,
 "nbformat_minor": 4
}
