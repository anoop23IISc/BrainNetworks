{
 "cells": [
  {
   "cell_type": "code",
   "execution_count": null,
   "metadata": {},
   "outputs": [],
   "source": [
    "# !pwd\n",
    "import os\n",
    "import pandas as pd\n",
    "import numpy as np"
   ]
  },
  {
   "cell_type": "code",
   "execution_count": null,
   "metadata": {},
   "outputs": [],
   "source": [
    "all_sub_adjMat = np.load(\"corr_mat_abide_605.npy\")\n",
    "sub_names = np.load(\"filename_abide_605.npy\", allow_pickle= True)\n",
    "print(len(all_sub_adjMat), len(sub_names))"
   ]
  },
  {
   "cell_type": "code",
   "execution_count": null,
   "metadata": {},
   "outputs": [],
   "source": [
    "with open('Phenotypic_V1_0b_preprocessed1.csv') as f:\n",
    "    content = f.readlines()\n",
    "content = [x.strip() for x in content]\n",
    "content.pop(-1)\n",
    "print(len(content))"
   ]
  },
  {
   "cell_type": "code",
   "execution_count": null,
   "metadata": {},
   "outputs": [],
   "source": [
    "df = pd.read_csv('Phenotypic_V1_0b_preprocessed1.csv') # can also index sheet by name or fetch all sheets\n",
    "label = df['DX_GROUP'].tolist()\n",
    "subject = df['FILE_ID'].tolist()\n",
    "print(len(label),label[:5], subject[:5])"
   ]
  },
  {
   "cell_type": "code",
   "execution_count": null,
   "metadata": {},
   "outputs": [],
   "source": [
    "subnames = [str(i)[:-14] for i in sub_names]\n",
    "print(len(subnames), subnames[:5])"
   ]
  },
  {
   "cell_type": "code",
   "execution_count": null,
   "metadata": {},
   "outputs": [],
   "source": [
    "adni90_feature = []\n",
    "adni90_labels = []\n",
    "adni90_adjmat = []\n",
    "# edge_fea = []\n",
    "\n",
    "for x,i in enumerate(subnames):\n",
    "    ind = [n for n, l in enumerate(subject) if l.startswith(i)]\n",
    "#     ind = subject.index(i)\n",
    "    adni90_labels.append(label[ind[0]])\n",
    "    adni90_feature.append(all_sub_adjMat[x])\n",
    "\n",
    "\n",
    "for i in adni90_feature:\n",
    "    temp = np.zeros((90, 90))\n",
    "    for x in range(90):\n",
    "        for y in range(90):\n",
    "            if abs(i[x][y]) >= 0.15:\n",
    "                temp[x][y] = 1\n",
    "#                 edge_fea.append(i[x][y])\n",
    "#             else:\n",
    "#                 edge_fea.append(-999)\n",
    "    adni90_adjmat.append(list(temp))\n",
    "\n",
    "            \n",
    "    \n",
    "print(len(adni90_labels), len(adni90_adjmat), len(adni90_feature))\n",
    "print(np.array(adni90_adjmat[0]).shape)"
   ]
  },
  {
   "cell_type": "code",
   "execution_count": null,
   "metadata": {},
   "outputs": [],
   "source": [
    "avg = []\n",
    "for k in range(605):\n",
    "    count = 0\n",
    "    for j in adni90_adjmat[k]:\n",
    "#         print(len(j))\n",
    "        for i in j:\n",
    "            if i == 1:\n",
    "                count += 1\n",
    "\n",
    "    avg.append(count)\n",
    "print(sum(avg)/len(avg))\n"
   ]
  },
  {
   "cell_type": "code",
   "execution_count": null,
   "metadata": {},
   "outputs": [],
   "source": [
    "# # choose the classification type\n",
    "\n",
    "lab1 = []\n",
    "exp1 = []\n",
    "fea1 = []\n",
    "\n",
    "stop  = 0\n",
    "\n",
    "for c,i in enumerate(adni90_labels):\n",
    "    if i == 1:\n",
    "        lab1.append(1)\n",
    "        exp1.append(adni90_adjmat[c])\n",
    "        \n",
    "    else:\n",
    "        lab1.append(2)\n",
    "        exp1.append(adni90_adjmat[c])\n",
    "        \n",
    "print(len(exp1), len(fea1), len(lab1))"
   ]
  },
  {
   "cell_type": "code",
   "execution_count": null,
   "metadata": {},
   "outputs": [],
   "source": [
    "# for ADNI_A.txt\n",
    "\n",
    "edgeFea = []\n",
    "count = -1\n",
    "adni_a = []\n",
    "for i, x in enumerate(exp1):\n",
    "    temp = []\n",
    "    for a in range(len(x)):\n",
    "        for b in range(len(x[0])):\n",
    "            count += 1\n",
    "            if a < b and x[a][b] == 1:\n",
    "                temp.append((a+1+i*90,b+1+i*90))\n",
    "#                 edgeFea.append(edge_fea[count])\n",
    "\n",
    "    adni_a.extend(temp)\n",
    "\n",
    "print(len(adni_a))\n",
    "print(adni_a[-10:])\n",
    "\n",
    "\n",
    "with open(\"/home/anoopkumar/Brain/HGP-SL/data/ABIDE/raw/ABIDE_A.txt\",\"w\") as f:\n",
    "    for item in adni_a:\n",
    "        f.write(\"%s, %s\\n\" % (item[0],item[1]))\n",
    "\n",
    "# print(len(edgeFea))"
   ]
  },
  {
   "cell_type": "code",
   "execution_count": null,
   "metadata": {},
   "outputs": [],
   "source": [
    "print(len(exp1))"
   ]
  },
  {
   "cell_type": "code",
   "execution_count": null,
   "metadata": {},
   "outputs": [],
   "source": [
    "# ADNI_graph_indicator.txt\n",
    "\n",
    "node_graph_indicator = []\n",
    "for i in range(1,len(exp1)+1):\n",
    "    node_graph_indicator.extend([i for j in range(90)])\n",
    "\n",
    "with open(\"/home/anoopkumar/Brain/HGP-SL/data/ABIDE/raw/ABIDE_graph_indicator.txt\",\"w\") as f:\n",
    "    for item in node_graph_indicator:\n",
    "        f.write(\"%s\\n\" % item) "
   ]
  },
  {
   "cell_type": "code",
   "execution_count": null,
   "metadata": {},
   "outputs": [],
   "source": [
    "# ADNI_graph_labels.txt\n",
    "\n",
    "with open(\"/home/anoopkumar/Brain/HGP-SL/data/ABIDE/raw/ABIDE_graph_labels.txt\",\"w\") as f:\n",
    "    for item in lab1:\n",
    "        f.write(\"%s\\n\" % item) "
   ]
  },
  {
   "cell_type": "code",
   "execution_count": null,
   "metadata": {},
   "outputs": [],
   "source": [
    "# ADNI node labels.txt\n",
    "\n",
    "\n",
    "\n",
    "node_labels = []\n",
    "\n",
    "for i in range(len(exp1)):\n",
    "    for j in range(90):\n",
    "        node_labels.append(j)\n",
    "print(len(node_labels), len(node_graph_indicator))                   \n",
    "with open(\"/home/anoopkumar/Brain/HGP-SL/data/ABIDE/raw/ABIDE_node_labels.txt\",\"w\") as f:\n",
    "    for item in node_labels:\n",
    "        f.write(\"%s\\n\" % item) "
   ]
  },
  {
   "cell_type": "code",
   "execution_count": null,
   "metadata": {},
   "outputs": [],
   "source": [
    "import torch\n",
    "import numpy as np\n",
    "import pandas as pd\n",
    "import os\n",
    "import re\n",
    "import sklearn"
   ]
  },
  {
   "cell_type": "code",
   "execution_count": null,
   "metadata": {},
   "outputs": [],
   "source": [
    "print(torch.__version__, torch.cuda.is_available())"
   ]
  },
  {
   "cell_type": "code",
   "execution_count": null,
   "metadata": {},
   "outputs": [],
   "source": [
    "!which pip\n",
    "\n",
    "os.chdir(\"/home/anoopkumar/Brain/HGP-SL\")\n",
    "!pwd"
   ]
  },
  {
   "cell_type": "code",
   "execution_count": null,
   "metadata": {},
   "outputs": [],
   "source": [
    "!rm -rf /home/anoopkumar/Brain/HGP-SL/data/ABIDE/processed\n",
    "!python main.py --epochs 50 --dataset ABIDE --batch_size 64 --lr 0.0001 --dropout_ratio 0.8 --nhid 128\n",
    "# --sparse_attention False --structure_learning False"
   ]
  },
  {
   "cell_type": "code",
   "execution_count": null,
   "metadata": {},
   "outputs": [],
   "source": [
    "############### load learned weights and use it to train adni #######################"
   ]
  },
  {
   "cell_type": "code",
   "execution_count": null,
   "metadata": {},
   "outputs": [],
   "source": [
    "!rm -rf /home/anoopkumar/Brain/HGP-SL/data/ADNI_612/processed\n",
    "!python mainTL.py --epochs 20 --dataset ADNI_612 --batch_size 8 --lr 0.0001 --dropout_ratio 0.5 --nhid 256 --sparse_attention False --structure_learning False"
   ]
  }
 ],
 "metadata": {
  "kernelspec": {
   "display_name": "Python 3",
   "language": "python",
   "name": "python3"
  },
  "language_info": {
   "codemirror_mode": {
    "name": "ipython",
    "version": 3
   },
   "file_extension": ".py",
   "mimetype": "text/x-python",
   "name": "python",
   "nbconvert_exporter": "python",
   "pygments_lexer": "ipython3",
   "version": "3.7.6"
  }
 },
 "nbformat": 4,
 "nbformat_minor": 2
}
