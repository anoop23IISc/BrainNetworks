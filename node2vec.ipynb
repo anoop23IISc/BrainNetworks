{
 "cells": [
  {
   "cell_type": "code",
   "execution_count": 57,
   "metadata": {},
   "outputs": [],
   "source": [
    "import pandas as pd\n",
    "import pickle\n",
    "import numpy as np\n",
    "from stellargraph import StellarGraph\n",
    "import os\n",
    "import networkx as nx\n",
    "import numpy as np\n",
    "import pandas as pd\n",
    "\n",
    "from stellargraph.data import BiasedRandomWalk\n",
    "from stellargraph import StellarGraph"
   ]
  },
  {
   "cell_type": "code",
   "execution_count": 63,
   "metadata": {},
   "outputs": [],
   "source": [
    "os.chdir('/home/anoopkumar/')\n",
    "all_sub_adj_mat = []\n",
    "all_sub_label = []\n",
    "\n",
    "with open ('all_subject_adj_mat.pkl','rb') as f1, open('all_subject_label.pkl','rb') as f2:\n",
    "    all_sub_adj_mat = pickle.load(f1)\n",
    "    all_sub_label = pickle.load(f2)"
   ]
  },
  {
   "cell_type": "code",
   "execution_count": 66,
   "metadata": {},
   "outputs": [],
   "source": [
    "newall = []\n",
    "for sub in all_sub_adj_mat:\n",
    "    newsub = []\n",
    "    for row in sub:\n",
    "        row = np.append(row,1)\n",
    "        newsub.append(row)\n",
    "    newsub = np.vstack([newsub,[1 for i in range(91)]])\n",
    "    newall.append(newsub)\n",
    "\n"
   ]
  },
  {
   "cell_type": "code",
   "execution_count": 67,
   "metadata": {},
   "outputs": [
    {
     "name": "stdout",
     "output_type": "stream",
     "text": [
      "160\n",
      "160\n",
      "90\n",
      "90\n",
      "160\n",
      "91\n",
      "91\n"
     ]
    }
   ],
   "source": [
    "print(len(all_sub_label))\n",
    "print(len(all_sub_adj_mat))\n",
    "print(len(all_sub_adj_mat[0]))\n",
    "print(len(all_sub_adj_mat[0][0]))\n",
    "print(len(newall))\n",
    "print(len(newall[0]))\n",
    "print(len(newall[0][0]))"
   ]
  },
  {
   "cell_type": "code",
   "execution_count": 69,
   "metadata": {},
   "outputs": [],
   "source": [
    "all_sg = [[] for i in range(160)]"
   ]
  },
  {
   "cell_type": "code",
   "execution_count": 71,
   "metadata": {},
   "outputs": [],
   "source": [
    "for count, sub in enumerate(newall):\n",
    "    np.fill_diagonal(sub, np.nan)\n",
    "    df = pd.DataFrame(sub)\n",
    "    df = df.stack().reset_index()\n",
    "    pairs = list(zip(df['level_0'], df['level_1']))\n",
    "    for i in pairs:\n",
    "            a, b = i\n",
    "            if (b,a) not in all_sg[count]:\n",
    "                all_sg[count].append(i)"
   ]
  },
  {
   "cell_type": "code",
   "execution_count": 72,
   "metadata": {},
   "outputs": [],
   "source": [
    "all_sg_lr = [[] for _ in range(160)]\n",
    "\n",
    "for i,x in enumerate(all_sg):\n",
    "    all_sg_lr[i] = [[],[]]\n",
    "    for pair in x:\n",
    "        a, b = pair\n",
    "        all_sg_lr[i][0].append(a)\n",
    "        all_sg_lr[i][1].append(b)"
   ]
  },
  {
   "cell_type": "code",
   "execution_count": 89,
   "metadata": {},
   "outputs": [],
   "source": [
    "graphs = []\n",
    "\n",
    "for one_sglr in all_sg_lr:\n",
    "    dic = {\"source\": one_sglr[0],\"target\":one_sglr[1]}\n",
    "    one = pd.DataFrame(dic)\n",
    "    graphs.append(StellarGraph(edges = one))"
   ]
  },
  {
   "cell_type": "code",
   "execution_count": 96,
   "metadata": {},
   "outputs": [
    {
     "name": "stdout",
     "output_type": "stream",
     "text": [
      "StellarGraph: Undirected multigraph\n",
      " Nodes: 91, Edges: 4095\n",
      "\n",
      " Node types:\n",
      "  default: [91]\n",
      "    Features: none\n",
      "    Edge types: default-default->default\n",
      "\n",
      " Edge types:\n",
      "    default-default->default: [4095]\n",
      "        Weights: all 1 (default)\n",
      "        Features: none\n"
     ]
    }
   ],
   "source": [
    "print(graphs[0].info()) \n",
    "G = graphs"
   ]
  },
  {
   "cell_type": "code",
   "execution_count": 233,
   "metadata": {},
   "outputs": [],
   "source": [
    "allwalk = []\n",
    "for sub in G:\n",
    "    rw = BiasedRandomWalk(sub)\n",
    "    walks = rw.run(\n",
    "    nodes=list(sub.nodes()),  # root nodes\n",
    "    length=100,  # maximum length of a random walk\n",
    "    n=10,  # number of random walks per root node\n",
    "    p=0.5,  # Defines (unormalised) probability, 1/p, of returning to source node\n",
    "    q=2.0,  # Defines (unormalised) probability, 1/q, for moving away from source node\n",
    "    )\n",
    "    allwalk.append(walks)\n",
    "# print(\"Number of random walks: {}\".format(len(walks)))\n"
   ]
  },
  {
   "cell_type": "code",
   "execution_count": 234,
   "metadata": {},
   "outputs": [
    {
     "name": "stdout",
     "output_type": "stream",
     "text": [
      "160\n"
     ]
    }
   ],
   "source": [
    "print(len(allwalk))"
   ]
  },
  {
   "cell_type": "code",
   "execution_count": 188,
   "metadata": {},
   "outputs": [],
   "source": [
    "modelvecs = []\n",
    "from gensim.models import Word2Vec\n",
    "\n",
    "for walks in allwalk:\n",
    "    str_walks = [[str(n) for n in walk] for walk in walks]\n",
    "    model = Word2Vec(str_walks, size=80, window=5, min_count=0, sg=1, workers=2, iter=1)\n",
    "    modelvecs.append(model)"
   ]
  },
  {
   "cell_type": "code",
   "execution_count": 189,
   "metadata": {},
   "outputs": [
    {
     "name": "stdout",
     "output_type": "stream",
     "text": [
      "91\n"
     ]
    }
   ],
   "source": [
    "graphembeds = []\n",
    "\n",
    "for vecs in modelvecs:\n",
    "    node_embeds = (vecs.wv.vectors)\n",
    "    print(len(node_embeds))\n",
    "    break"
   ]
  },
  {
   "cell_type": "code",
   "execution_count": 190,
   "metadata": {},
   "outputs": [],
   "source": [
    "supernode = []\n",
    "avgnode = []\n",
    "\n",
    "for vecs in modelvecs:\n",
    "    node_embeds = (vecs.wv.vectors)\n",
    "    supernode.append(node_embeds[-1])\n",
    "    avgnode.append(node_embeds.mean(axis = 0)) "
   ]
  },
  {
   "cell_type": "code",
   "execution_count": 215,
   "metadata": {},
   "outputs": [
    {
     "name": "stdout",
     "output_type": "stream",
     "text": [
      "160 160\n",
      "129 129\n"
     ]
    }
   ],
   "source": [
    "print(len(supernode),len(avgnode))\n",
    "graph_labels = []\n",
    "rem_ad = []\n",
    "for c,i in enumerate(all_sub_label):\n",
    "    if i == 'CN':\n",
    "        graph_labels.append(1)\n",
    "    elif i == 'MCI' or i == 'EMCI' or i == 'LMCI':\n",
    "        graph_labels.append(-1)\n",
    "    else:\n",
    "        rem_ad.append(c)\n",
    "\n",
    "exp1 = []\n",
    "for i in range(160):\n",
    "    if i not in rem_ad:\n",
    "        exp1.append(supernode[i])\n",
    "        \n",
    "print(len(exp1), len (graph_labels))"
   ]
  },
  {
   "cell_type": "code",
   "execution_count": null,
   "metadata": {},
   "outputs": [],
   "source": [
    "############# supernode check #############################################"
   ]
  },
  {
   "cell_type": "code",
   "execution_count": 216,
   "metadata": {},
   "outputs": [
    {
     "name": "stdout",
     "output_type": "stream",
     "text": [
      "129 129\n"
     ]
    }
   ],
   "source": [
    "data = exp1\n",
    "label = graph_labels\n",
    "print(len(data),len(label))"
   ]
  },
  {
   "cell_type": "code",
   "execution_count": 217,
   "metadata": {},
   "outputs": [
    {
     "data": {
      "text/html": [
       "<div>\n",
       "<style scoped>\n",
       "    .dataframe tbody tr th:only-of-type {\n",
       "        vertical-align: middle;\n",
       "    }\n",
       "\n",
       "    .dataframe tbody tr th {\n",
       "        vertical-align: top;\n",
       "    }\n",
       "\n",
       "    .dataframe thead th {\n",
       "        text-align: right;\n",
       "    }\n",
       "</style>\n",
       "<table border=\"1\" class=\"dataframe\">\n",
       "  <thead>\n",
       "    <tr style=\"text-align: right;\">\n",
       "      <th></th>\n",
       "      <th>0</th>\n",
       "    </tr>\n",
       "    <tr>\n",
       "      <th>0</th>\n",
       "      <th></th>\n",
       "    </tr>\n",
       "  </thead>\n",
       "  <tbody>\n",
       "    <tr>\n",
       "      <th>-1</th>\n",
       "      <td>89</td>\n",
       "    </tr>\n",
       "    <tr>\n",
       "      <th>1</th>\n",
       "      <td>40</td>\n",
       "    </tr>\n",
       "  </tbody>\n",
       "</table>\n",
       "</div>"
      ],
      "text/plain": [
       "     0\n",
       "0     \n",
       "-1  89\n",
       " 1  40"
      ]
     },
     "execution_count": 217,
     "metadata": {},
     "output_type": "execute_result"
    }
   ],
   "source": [
    "pd.DataFrame(label).value_counts().to_frame()"
   ]
  },
  {
   "cell_type": "code",
   "execution_count": 218,
   "metadata": {},
   "outputs": [],
   "source": [
    "from sklearn.model_selection import cross_validate\n",
    "from sklearn.neural_network import MLPClassifier\n",
    "from sklearn.pipeline import make_pipeline\n",
    "from sklearn.preprocessing import StandardScaler\n",
    "from sklearn.ensemble import GradientBoostingClassifier\n",
    "from sklearn.svm import SVC\n",
    "clf1 = SVC(gamma='auto')\n",
    "# clf2 =make_pipeline(StandardScaler(), MLPClassifier(solver='lbfgs', alpha=1e-5, hidden_layer_sizes=(16, 4), random_state=1))\n",
    "clf3 = GradientBoostingClassifier(n_estimators=200, learning_rate=1.0,max_depth=5, random_state=0)\n",
    "\n",
    "X = np.array(data)\n",
    "y = np.array(label)\n"
   ]
  },
  {
   "cell_type": "code",
   "execution_count": 220,
   "metadata": {},
   "outputs": [],
   "source": [
    "cv_results = cross_validate(clf1, X, y, cv=40, scoring = ['accuracy','roc_auc','balanced_accuracy'])\n",
    "# cv_results2 = cross_validate(clf2, X, y, cv=40)\n",
    "cv_results3 = cross_validate(clf3, X, y, cv=40,scoring = ['accuracy','roc_auc','balanced_accuracy'])"
   ]
  },
  {
   "cell_type": "code",
   "execution_count": 232,
   "metadata": {},
   "outputs": [
    {
     "name": "stdout",
     "output_type": "stream",
     "text": [
      "0.45\n",
      "0.4916666666666667\n",
      "0.4875\n"
     ]
    }
   ],
   "source": [
    "print(np.mean(cv_results['test_roc_auc']))\n",
    "# print((cv_results['test_score']))\n",
    "print(np.mean(cv_results3['test_roc_auc']))\n",
    "print(np.mean(cv_results3['test_balanced_accuracy']))\n"
   ]
  },
  {
   "cell_type": "code",
   "execution_count": null,
   "metadata": {},
   "outputs": [],
   "source": []
  }
 ],
 "metadata": {
  "kernelspec": {
   "display_name": "Python 3",
   "language": "python",
   "name": "python3"
  },
  "language_info": {
   "codemirror_mode": {
    "name": "ipython",
    "version": 3
   },
   "file_extension": ".py",
   "mimetype": "text/x-python",
   "name": "python",
   "nbconvert_exporter": "python",
   "pygments_lexer": "ipython3",
   "version": "3.7.9"
  }
 },
 "nbformat": 4,
 "nbformat_minor": 4
}
