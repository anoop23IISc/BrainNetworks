{
  "nbformat": 4,
  "nbformat_minor": 0,
  "metadata": {
    "colab": {
      "name": "mci vs nc",
      "provenance": []
    },
    "kernelspec": {
      "name": "python3",
      "display_name": "Python 3"
    },
    "accelerator": "GPU"
  },
  "cells": [
    {
      "cell_type": "code",
      "metadata": {
        "id": "AW-2iEkMaOxV"
      },
      "source": [
        "import numpy as np\n",
        "import pandas as pd\n",
        "import re\n",
        "import os\n",
        "from google.colab import drive\n",
        "drive.mount('/content/drive')\n",
        "import pickle\n",
        "import numpy as np\n",
        "import pandas as pd\n",
        "import sklearn\n",
        "from copy import deepcopy\n",
        "from stellargraph import StellarGraph\n",
        "import time"
      ],
      "execution_count": null,
      "outputs": []
    },
    {
      "cell_type": "code",
      "metadata": {
        "id": "kvPgMmmyeX04"
      },
      "source": [
        "all_sub_adjMat = np.load(\"/content/drive/My Drive/correlation_matrices.npy\")\n",
        "sub_names = np.load(\"/content/drive/My Drive/filenamelist.npy\", allow_pickle= True)\n",
        "print(len(all_sub_adjMat), len(sub_names))"
      ],
      "execution_count": null,
      "outputs": []
    },
    {
      "cell_type": "code",
      "metadata": {
        "id": "9FgO1Pudg1q4"
      },
      "source": [
        "subnames = [str(i)[5:15] for i in sub_names]\n",
        "print(len(subnames), subnames[:5])"
      ],
      "execution_count": null,
      "outputs": []
    },
    {
      "cell_type": "code",
      "metadata": {
        "id": "I7Ll7MWgg1nx"
      },
      "source": [
        "with open('/content/xlabel.csv') as f:\n",
        "    content = f.readlines()\n",
        "content = [x.strip() for x in content]\n",
        "content.pop(-1)\n",
        "print(len(content))"
      ],
      "execution_count": null,
      "outputs": []
    },
    {
      "cell_type": "code",
      "metadata": {
        "id": "zg93qQZkg1lX"
      },
      "source": [
        "df = pd.read_csv('/content/xlabel.csv') \n",
        "label = df['Group'].tolist()\n",
        "subject = df['Subject'].tolist()\n",
        "print(len(label),label[:5], subject[:5])"
      ],
      "execution_count": null,
      "outputs": []
    },
    {
      "cell_type": "code",
      "metadata": {
        "id": "RZ_CclIqg1iW"
      },
      "source": [
        "adni90_feature = []\n",
        "adni90_labels = []\n",
        "adni90_adjmat = []\n",
        "\n",
        "for x,i in enumerate(subnames):\n",
        "    ind = subject.index(i)\n",
        "    adni90_labels.append(label[ind])\n",
        "    adni90_feature.append(all_sub_adjMat[x])\n",
        "\n",
        "for i in adni90_feature:\n",
        "    temp = np.zeros((90,90))\n",
        "    for x in range(90):\n",
        "        for y in range(90):\n",
        "            if i[x][y] > 0.15:\n",
        "                temp[x][y] = 1\n",
        "    adni90_adjmat.append(list(temp))\n",
        "            \n",
        "    \n",
        "print(len(adni90_labels), len(adni90_adjmat), len(adni90_feature))"
      ],
      "execution_count": null,
      "outputs": []
    },
    {
      "cell_type": "code",
      "metadata": {
        "id": "hqk0fN5Yg1fk"
      },
      "source": [
        "all_sg = [[] for i in range(152)]\n",
        "\n",
        "for count, sub in enumerate(adni90_adjmat):\n",
        "    np.fill_diagonal(np.array(sub), np.nan)\n",
        "    df = pd.DataFrame(sub)\n",
        "    df = df.stack().reset_index()\n",
        "    df.columns = ['a','b','c']\n",
        "    isedge = df['c'] == 1\n",
        "    dfn = df[isedge]\n",
        "    pairs = list(zip(dfn['a'], dfn['b']))\n",
        "    for i in pairs:\n",
        "            a, b = i\n",
        "            if (b,a) not in all_sg[count]:\n",
        "                all_sg[count].append(i)"
      ],
      "execution_count": null,
      "outputs": []
    },
    {
      "cell_type": "code",
      "metadata": {
        "id": "8roN-Jdug1c5"
      },
      "source": [
        "print(len(all_sg))\n",
        "print(len(all_sg[0]))"
      ],
      "execution_count": null,
      "outputs": []
    },
    {
      "cell_type": "code",
      "metadata": {
        "id": "X66SduF7g1aC"
      },
      "source": [
        "all_sg_lr = [[] for _ in range(152)]\n",
        "\n",
        "for i,x in enumerate(all_sg):\n",
        "    all_sg_lr[i] = [[],[]]\n",
        "    for pair in x:\n",
        "        a, b = pair\n",
        "        all_sg_lr[i][0].append(a)\n",
        "        all_sg_lr[i][1].append(b)"
      ],
      "execution_count": null,
      "outputs": []
    },
    {
      "cell_type": "code",
      "metadata": {
        "id": "v8RuzHRRg1X6"
      },
      "source": [
        "# for featue\n",
        "\n",
        "all_sub_fea = []\n",
        "for i in adni90_feature:\n",
        "    fead = pd.DataFrame(i)\n",
        "    all_sub_fea.append(fead)"
      ],
      "execution_count": null,
      "outputs": []
    },
    {
      "cell_type": "code",
      "metadata": {
        "id": "_RwHSIb-g1Uw"
      },
      "source": [
        "graphs = []\n",
        "\n",
        "for i,one_sglr in enumerate(all_sg_lr):\n",
        "    dic = {\"source\": one_sglr[0],\"target\":one_sglr[1]}\n",
        "    one = pd.DataFrame(dic)\n",
        "    graphs.append(StellarGraph(all_sub_fea[i],one))"
      ],
      "execution_count": null,
      "outputs": []
    },
    {
      "cell_type": "code",
      "metadata": {
        "id": "XBadU_XZg1Sh"
      },
      "source": [
        "print(graphs[1].info())"
      ],
      "execution_count": null,
      "outputs": []
    },
    {
      "cell_type": "code",
      "metadata": {
        "id": "-k0daDEvg1Pg"
      },
      "source": [
        "summary = pd.DataFrame(\n",
        "    [(g.number_of_nodes(), g.number_of_edges()) for g in graphs],\n",
        "    columns=[\"nodes\", \"edges\"],\n",
        ")\n",
        "summary.describe().round(1)"
      ],
      "execution_count": null,
      "outputs": []
    },
    {
      "cell_type": "code",
      "metadata": {
        "id": "9dqzW2wrg1Mo"
      },
      "source": [
        "\n",
        "################### EMCI Vs LMCI  #############################\n",
        "# graph_labels = []\n",
        "# rem_ad = []\n",
        "# exp1 = []\n",
        "# for c,i in enumerate(adni90_labels):\n",
        "#     if i == 'EMCI':\n",
        "#         graph_labels.append(1)\n",
        "#         exp1.append(graphs[c])\n",
        "#     elif i == 'LMCI':\n",
        "#         graph_labels.append(-1)\n",
        "#         exp1.append(graphs[c])\n",
        "#     else:\n",
        "#         rem_ad.append(c)\n",
        "   \n",
        "\n",
        "################## AD Vs NC ################################\n",
        "# graph_labels = []\n",
        "# rem_ad = []\n",
        "# exp1 = []\n",
        "# coo = 0\n",
        "# for c,i in enumerate(adni90_labels):\n",
        "#     if i == 'AD':\n",
        "#         graph_labels.append(1)\n",
        "#         exp1.append(graphs[c])\n",
        "#         coo += 1\n",
        "#     elif i == 'CN':\n",
        "#         graph_labels.append(-1)\n",
        "#         exp1.append(graphs[c])\n",
        "#     else:\n",
        "#         rem_ad.append(c)\n",
        "\n",
        "\n",
        "################  AD Vs MCI ###############################\n",
        "# graph_labels = []\n",
        "# rem_ad = []\n",
        "# exp1 = []\n",
        "# coo = 0\n",
        "# for c,i in enumerate():\n",
        "#     if i == 'EMCI' or i == 'LMCI' or i == 'MCI':\n",
        "#         graph_labels.append(1)\n",
        "#         exp1.append(graphs[c])\n",
        "#         coo += 1\n",
        "#     elif i == 'AD':\n",
        "#         graph_labels.append(-1)\n",
        "#         exp1.append(graphs[c])\n",
        "#     else:\n",
        "#         rem_ad.append(c)\n",
        "   \n",
        "   \n",
        "\n",
        "\n",
        "########### MCI Vs NC ##########################\n",
        "graph_labels = []\n",
        "rem_ad = []\n",
        "exp1 = []\n",
        "coo = 0\n",
        "for c,i in enumerate(adni90_labels):\n",
        "    if i == 'EMCI' or i == 'LMCI' or i == 'MCI':\n",
        "        graph_labels.append(1)\n",
        "        exp1.append(graphs[c])\n",
        "        coo += 1\n",
        "    elif i == 'CN':\n",
        "        graph_labels.append(-1)\n",
        "        exp1.append(graphs[c])\n",
        "    else:\n",
        "        rem_ad.append(c)\n",
        "    "
      ],
      "execution_count": null,
      "outputs": []
    },
    {
      "cell_type": "code",
      "metadata": {
        "id": "Mnl8S8ctg1J4"
      },
      "source": [
        "print(len(exp1), len (graph_labels))\n",
        "graph_labels = pd.get_dummies(graph_labels, drop_first=True)"
      ],
      "execution_count": null,
      "outputs": []
    },
    {
      "cell_type": "code",
      "metadata": {
        "id": "9UDXTrj8g1Hh"
      },
      "source": [
        "#####################################################################################3"
      ],
      "execution_count": null,
      "outputs": []
    },
    {
      "cell_type": "code",
      "metadata": {
        "id": "fKIiy16ag1FC"
      },
      "source": [
        "import pandas as pd\n",
        "import numpy as np\n",
        "\n",
        "import stellargraph as sg\n",
        "from stellargraph.mapper import PaddedGraphGenerator\n",
        "from stellargraph.layer import GCNSupervisedGraphClassification\n",
        "from stellargraph import StellarGraph\n",
        "\n",
        "from stellargraph import datasets\n",
        "import sklearn\n",
        "from sklearn import model_selection\n",
        "from sklearn.metrics import balanced_accuracy_score\n",
        "from IPython.display import display, HTML\n",
        "\n",
        "from tensorflow.keras import Model\n",
        "from tensorflow.keras.optimizers import Adam\n",
        "from tensorflow.keras.layers import Dense\n",
        "from tensorflow.keras.losses import binary_crossentropy\n",
        "from tensorflow.keras.callbacks import EarlyStopping\n",
        "import tensorflow.keras.metrics\n",
        "import tensorflow as tf\n",
        "import matplotlib.pyplot as plt"
      ],
      "execution_count": null,
      "outputs": []
    },
    {
      "cell_type": "code",
      "metadata": {
        "id": "KBMwKYm8g1Cq"
      },
      "source": [
        "generator = PaddedGraphGenerator(graphs=exp1)"
      ],
      "execution_count": null,
      "outputs": []
    },
    {
      "cell_type": "code",
      "metadata": {
        "id": "h-s3nZwbg1AN"
      },
      "source": [
        "def create_graph_classification_model(generator):\n",
        "    gc_model = GCNSupervisedGraphClassification(\n",
        "        layer_sizes=[128, 128, 128, 128],\n",
        "        activations=[\"relu\", \"relu\",\"relu\", \"relu\"],\n",
        "        generator=generator,\n",
        "        dropout=0.5,\n",
        "    )\n",
        "    x_inp, x_out = gc_model.in_out_tensors()\n",
        "    predictions = Dense(units=256, activation=\"relu\")(x_out)\n",
        "    predictions = Dense(units=128, activation=\"relu\")(predictions)\n",
        "    \n",
        "    predictions = Dense(units=64, activation=\"relu\")(predictions)\n",
        "    \n",
        "    predictions = Dense(units=32, activation=\"relu\")(predictions)\n",
        "    \n",
        "    predictions = Dense(units=16, activation=\"relu\")(predictions)\n",
        "    predictions = Dense(units=1, activation=\"sigmoid\")(predictions)\n",
        "\n",
        "    # Let's create the Keras model and prepare it for training\n",
        "    model = Model(inputs=x_inp, outputs=predictions)\n",
        "#     model.compile(optimizer=Adam(0.005), loss=binary_crossentropy, metrics=[\"acc\"]) \n",
        "    model.compile(optimizer=Adam(0.005), loss=binary_crossentropy, metrics=[\"acc\",tf.keras.metrics.AUC()])\n",
        "\n",
        "    return model"
      ],
      "execution_count": null,
      "outputs": []
    },
    {
      "cell_type": "code",
      "metadata": {
        "id": "bvdaxcMKg09s"
      },
      "source": [
        "epochs = 200  # maximum number of training epochs\n",
        "folds = 30 # the number of folds for k-fold cross validation\n",
        "n_repeats = 5  # the number of repeats for repeated k-fold cross validation"
      ],
      "execution_count": null,
      "outputs": []
    },
    {
      "cell_type": "code",
      "metadata": {
        "id": "w1oB2VAHg07F"
      },
      "source": [
        "es = EarlyStopping(\n",
        "    monitor=\"val_loss\", min_delta=0, patience=25, restore_best_weights=True\n",
        ")"
      ],
      "execution_count": null,
      "outputs": []
    },
    {
      "cell_type": "code",
      "metadata": {
        "id": "nIEbVRojg04i"
      },
      "source": [
        "def train_fold(model, train_gen, test_gen, es, epochs):\n",
        "    history = model.fit(\n",
        "        train_gen, epochs=epochs, validation_data=test_gen, verbose=0, callbacks=[es],\n",
        "    )\n",
        "    # calculate performance on the test data and return along with history\n",
        "    \n",
        "    test_metrics = model.evaluate(test_gen, verbose=0)\n",
        "#     print(model.metrics_names)\n",
        "    test_acc = test_metrics[model.metrics_names.index(\"acc\")]\n",
        "#     test_bacc = test_metrics[3]\n",
        "    test_auc = test_metrics[2]\n",
        "    \n",
        "\n",
        "    return history, test_acc, test_auc"
      ],
      "execution_count": null,
      "outputs": []
    },
    {
      "cell_type": "code",
      "metadata": {
        "id": "RyJ3I_EGg010"
      },
      "source": [
        "def get_generators(train_index, test_index, graph_labels, batch_size):\n",
        "    train_gen = generator.flow(\n",
        "        train_index, targets=graph_labels.iloc[train_index].values, batch_size=batch_size\n",
        "    )\n",
        "    test_gen = generator.flow(\n",
        "        test_index, targets=graph_labels.iloc[test_index].values, batch_size=batch_size\n",
        "    )\n",
        "\n",
        "    return train_gen, test_gen"
      ],
      "execution_count": null,
      "outputs": []
    },
    {
      "cell_type": "code",
      "metadata": {
        "id": "KabD7UnDg0zm"
      },
      "source": [
        "test_accs = []\n",
        "# test_raccs = []\n",
        "# test_baccs = []\n",
        "test_aucs = []\n",
        "start = time.time()\n",
        "\n",
        "\n",
        "stratified_folds = model_selection.RepeatedStratifiedKFold(\n",
        "    n_splits=folds, n_repeats=n_repeats\n",
        ").split(graph_labels, graph_labels)\n",
        "\n",
        "for i, (train_index, test_index) in enumerate(stratified_folds):\n",
        "    print(f\"Training and evaluating on fold {i+1} out of {folds * n_repeats}...\")\n",
        "    train_gen, test_gen = get_generators(\n",
        "        train_index, test_index, graph_labels, batch_size=30\n",
        "    )\n",
        "\n",
        "    model = create_graph_classification_model(generator)\n",
        "    history, acc, auc = train_fold(model, train_gen, test_gen, es, epochs)\n",
        "    \n",
        "#     history, acc = train_fold(model, train_gen, test_gen, es, epochs)\n",
        "\n",
        "    test_accs.append(acc)\n",
        "#     test_raccs.append(racc)\n",
        "    test_aucs.append(auc)\n",
        "\n",
        "end = time.time()\n",
        "print(end - start)"
      ],
      "execution_count": null,
      "outputs": []
    },
    {
      "cell_type": "code",
      "metadata": {
        "id": "jQByZTwBg0xB"
      },
      "source": [
        "print(\n",
        "    f\"Accuracy over all folds mean: {np.mean(test_accs)*100:.3}% and std: {np.std(test_accs)*100:.2}% and auc: {np.mean(test_aucs)}\"\n",
        ")"
      ],
      "execution_count": null,
      "outputs": []
    },
    {
      "cell_type": "code",
      "metadata": {
        "id": "zEMkVOMcg0uN"
      },
      "source": [
        "plt.figure(figsize=(8, 6))\n",
        "plt.hist(test_accs)\n",
        "plt.xlabel(\"Accuracy\")\n",
        "plt.ylabel(\"Count\")"
      ],
      "execution_count": null,
      "outputs": []
    },
    {
      "cell_type": "code",
      "metadata": {
        "id": "2-hhnX3kg0lP"
      },
      "source": [
        "# Accuracy over all folds mean: 75.5% and std: 2.1e+01% and auc: 0.7890625\n",
        "# Accuracy over all folds mean: 90.0% and std: 2.2e+01% and auc: 0.9080645161290323\n",
        "# Accuracy over all folds mean: 85.1% and std: 1.4e+01% and auc: 0.8333333367301572\n"
      ],
      "execution_count": null,
      "outputs": []
    },
    {
      "cell_type": "code",
      "metadata": {
        "id": "m8X9tUUXg0OD"
      },
      "source": [
        ""
      ],
      "execution_count": null,
      "outputs": []
    }
  ]
}