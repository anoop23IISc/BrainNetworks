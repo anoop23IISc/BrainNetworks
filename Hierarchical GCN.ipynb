{
 "cells": [
  {
   "cell_type": "code",
   "execution_count": null,
   "metadata": {},
   "outputs": [],
   "source": [
    "# !pwd\n",
    "import os\n",
    "import pandas as pd\n",
    "import numpy as np"
   ]
  },
  {
   "cell_type": "code",
   "execution_count": null,
   "metadata": {
    "scrolled": true
   },
   "outputs": [],
   "source": [
    "all_sub_adjMat = np.load(\"adni_612_corrmat.npy\")\n",
    "sub_names = np.load(\"adni_612_filenames.npy\", allow_pickle= True)\n",
    "print(len(all_sub_adjMat), len(sub_names))"
   ]
  },
  {
   "cell_type": "code",
   "execution_count": null,
   "metadata": {
    "scrolled": false
   },
   "outputs": [],
   "source": [
    "len(all_sub_adjMat), np.shape(all_sub_adjMat), type(all_sub_adjMat)"
   ]
  },
  {
   "cell_type": "code",
   "execution_count": null,
   "metadata": {},
   "outputs": [],
   "source": [
    "all_sub_adjMat = np.delete(all_sub_adjMat, (130,460, 540), axis=0)\n",
    "sub_names = np.delete(sub_names, (130,460, 540))\n",
    "print(len(all_sub_adjMat), len(sub_names))"
   ]
  },
  {
   "cell_type": "code",
   "execution_count": null,
   "metadata": {},
   "outputs": [],
   "source": [
    "with open('ADNI_largerdataset_labels.csv') as f:\n",
    "    content = f.readlines()\n",
    "content = [x.strip() for x in content]\n",
    "content.pop(-1)\n",
    "print(content[0])\n",
    "print(len(content))"
   ]
  },
  {
   "cell_type": "code",
   "execution_count": null,
   "metadata": {},
   "outputs": [],
   "source": [
    "with open('imageid_visitid.txt', 'r') as g:\n",
    "    lines = g.readlines()\n",
    "lines = [x.strip() for x in lines]\n",
    "image_ids = [x[0:7] for x in lines]\n",
    "visit_ids =  [x[9:] for x in lines]\n",
    "print(lines[0], image_ids[0], visit_ids[0])"
   ]
  },
  {
   "cell_type": "code",
   "execution_count": null,
   "metadata": {
    "scrolled": true
   },
   "outputs": [],
   "source": [
    "df = pd.read_csv('ADNI_largerdataset_labels.csv') # can also index sheet by name or fetch all sheets\n",
    "label = df['Group'].tolist()\n",
    "subject = df['Image Data ID'].tolist()\n",
    "print(len(label),label[:5], subject[:5])"
   ]
  },
  {
   "cell_type": "code",
   "execution_count": null,
   "metadata": {},
   "outputs": [],
   "source": [
    "visitnames = [str(i)[11:] for i in sub_names]\n",
    "visitnames = [str(i)[0:-21] for i in visitnames]\n",
    "print(visitnames[0])\n",
    "\n",
    "subnames = []\n",
    "for i in range(len(visitnames)):\n",
    "    index = visit_ids.index(visitnames[i])\n",
    "    subnames.append(image_ids[index])\n",
    "    "
   ]
  },
  {
   "cell_type": "code",
   "execution_count": null,
   "metadata": {
    "scrolled": true
   },
   "outputs": [],
   "source": [
    "print(len(subnames), subnames[:5])"
   ]
  },
  {
   "cell_type": "code",
   "execution_count": null,
   "metadata": {},
   "outputs": [],
   "source": [
    "subnames.index('visitid')"
   ]
  },
  {
   "cell_type": "code",
   "execution_count": null,
   "metadata": {},
   "outputs": [],
   "source": [
    "print(len(subnames), subnames[:5])\n",
    "for x,i in enumerate(subnames):\n",
    "    print(x,i)\n",
    "    break\n",
    "    \n",
    "# print(len(subject), subject[])"
   ]
  },
  {
   "cell_type": "code",
   "execution_count": null,
   "metadata": {},
   "outputs": [],
   "source": [
    "adni90_feature = []\n",
    "adni90_labels = []\n",
    "adni90_adjmat = []\n",
    "edge_fea = []\n",
    "\n",
    "for x,i in enumerate(subnames):\n",
    "    if i =='visitid':\n",
    "        continue\n",
    "    ind = subject.index(i)\n",
    "    adni90_labels.append(label[ind])\n",
    "    adni90_feature.append(all_sub_adjMat[x])\n",
    "\n",
    "for i in adni90_feature:\n",
    "    temp = np.zeros((90,90))\n",
    "    for x in range(90):\n",
    "        for y in range(90):\n",
    "            if abs(i[x][y]) > 0.15:\n",
    "                temp[x][y] = 1\n",
    "                edge_fea.append(i[x][y])\n",
    "            else:\n",
    "                edge_fea.append(-999)\n",
    "    adni90_adjmat.append(list(temp))\n",
    "            \n",
    "    \n",
    "print(len(adni90_labels), len(adni90_adjmat), len(adni90_feature))\n",
    "print(np.array(adni90_adjmat[0]).shape)"
   ]
  },
  {
   "cell_type": "code",
   "execution_count": null,
   "metadata": {},
   "outputs": [],
   "source": [
    "# # choose the classification type\n",
    "\n",
    "lab1 = []\n",
    "exp1 = []\n",
    "fea1 = []\n",
    "\n",
    "c1,c2 = 0, 0\n",
    "\n",
    "for c,i in enumerate(adni90_labels):\n",
    "    if i == 'EMCI' or i == 'LMCI' or i == 'MCI':\n",
    "#     if i == 'CN':\n",
    "        c1 += 1\n",
    "#         if c1 == 150:\n",
    "#             c1 -= 1\n",
    "#             continue\n",
    "        lab1.append(1)\n",
    "        exp1.append(adni90_adjmat[c])\n",
    "        fea1.append(adni90_feature[c])\n",
    "        \n",
    "#     elif i == 'AD':\n",
    "    elif i == 'CN':\n",
    "        c2 += 1\n",
    "        lab1.append(2)\n",
    "        exp1.append(adni90_adjmat[c])\n",
    "        fea1.append(adni90_feature[c])\n",
    "    \n",
    "\n",
    "print(len(exp1), len(fea1), len(lab1))\n",
    "print(c1, c2) "
   ]
  },
  {
   "cell_type": "code",
   "execution_count": null,
   "metadata": {
    "scrolled": true
   },
   "outputs": [],
   "source": [
    "# print(len(edge_fea), len(adni_a))\n",
    "print(lab1)"
   ]
  },
  {
   "cell_type": "code",
   "execution_count": null,
   "metadata": {
    "scrolled": true
   },
   "outputs": [],
   "source": [
    "!pwd\n",
    "os.chdir(\"/home/anoopkumar/Brain/HGP-SL/data\")\n",
    "!pwd"
   ]
  },
  {
   "cell_type": "code",
   "execution_count": null,
   "metadata": {},
   "outputs": [],
   "source": [
    "# for ADNI_A.txt\n",
    "\n",
    "edgeFea = []\n",
    "count = -1\n",
    "adni_a = []\n",
    "for i, x in enumerate(exp1):\n",
    "    temp = []\n",
    "    for a in range(len(x)):\n",
    "        for b in range(len(x[0])):\n",
    "            count += 1\n",
    "            if a < b and x[a][b] == 1:\n",
    "                temp.append((a+1+i*90,b+1+i*90))\n",
    "                edgeFea.append(edge_fea[count])\n",
    "\n",
    "    adni_a.extend(temp)\n",
    "\n",
    "print(len(adni_a))\n",
    "print(adni_a[-10:])\n",
    "\n",
    "\n",
    "with open(\"ADNI_612/raw/ADNI_612_A.txt\",\"w\") as f:\n",
    "    for item in adni_a:\n",
    "        f.write(\"%s, %s\\n\" % (item[0],item[1]))\n",
    "\n",
    "print(len(edgeFea))"
   ]
  },
  {
   "cell_type": "code",
   "execution_count": null,
   "metadata": {},
   "outputs": [],
   "source": [
    "# ADNI_graph_indicator.txt\n",
    "\n",
    "node_graph_indicator = []\n",
    "for i in range(1,len(exp1)+1):\n",
    "    node_graph_indicator.extend([i for j in range(90)])\n",
    "\n",
    "with open(\"ADNI_612/raw/ADNI_612_graph_indicator.txt\",\"w\") as f:\n",
    "    for item in node_graph_indicator:\n",
    "        f.write(\"%s\\n\" % item) "
   ]
  },
  {
   "cell_type": "code",
   "execution_count": null,
   "metadata": {},
   "outputs": [],
   "source": [
    "# ADNI_graph_labels.txt\n",
    "\n",
    "with open(\"ADNI_612/raw/ADNI_612_graph_labels.txt\",\"w\") as f:\n",
    "    for item in lab1:\n",
    "        f.write(\"%s\\n\" % item) "
   ]
  },
  {
   "cell_type": "code",
   "execution_count": null,
   "metadata": {},
   "outputs": [],
   "source": [
    "# ADNI node labels.txt\n",
    "\n",
    "\n",
    "\n",
    "node_labels = []\n",
    "\n",
    "for i in range(len(exp1)):\n",
    "    for j in range(90):\n",
    "        node_labels.extend([j])\n",
    "print(len(node_labels), len(node_graph_indicator))                   \n",
    "with open(\"ADNI_612/raw/ADNI_612_node_labels.txt\",\"w\") as f:\n",
    "    for item in node_labels:\n",
    "        f.write(\"%s\\n\" % item) "
   ]
  },
  {
   "cell_type": "code",
   "execution_count": null,
   "metadata": {},
   "outputs": [],
   "source": [
    "# ADNI edge attr\n",
    "\n",
    "\n",
    "with open(\"ADNI_612/raw/ADNI_612_edge_attributes.txt\",\"w\") as f:\n",
    "    for item in edgeFea:\n",
    "        f.write(\"%s\\n\" % item) "
   ]
  },
  {
   "cell_type": "code",
   "execution_count": null,
   "metadata": {},
   "outputs": [],
   "source": [
    "import torch\n",
    "import numpy as np\n",
    "import pandas as pd\n",
    "import os\n",
    "import re\n",
    "import sklearn"
   ]
  },
  {
   "cell_type": "code",
   "execution_count": null,
   "metadata": {},
   "outputs": [],
   "source": [
    "print(torch.__version__, torch.cuda.is_available())"
   ]
  },
  {
   "cell_type": "code",
   "execution_count": null,
   "metadata": {},
   "outputs": [],
   "source": [
    "!which pip\n",
    "\n",
    "os.chdir(\"/home/anoopkumar/Brain/HGP-SL\")\n",
    "!pwd"
   ]
  },
  {
   "cell_type": "code",
   "execution_count": null,
   "metadata": {
    "scrolled": false
   },
   "outputs": [],
   "source": [
    "# !python main_cudastreams2.py --epochs 10 --dataset ADNI_612 --batch_size 4 --lr 0.01 --dropout_ratio 0.5 --nhid 512 \n",
    "# # --sparse_attention False --structure_learning False\n",
    "\n",
    "!rm -rf /home/anoopkumar/Brain/HGP-SL/data/ADNI_612/processed\n",
    "!python main.py --epochs 20 --dataset ADNI_612 --batch_size 8 --lr 0.0001 --dropout_ratio 0.5 --nhid 256 --sparse_attention False --structure_learning False"
   ]
  },
  {
   "cell_type": "code",
   "execution_count": null,
   "metadata": {},
   "outputs": [],
   "source": [
    "#plot the times taken\n",
    "import matplotlib.pyplot as plt"
   ]
  },
  {
   "cell_type": "code",
   "execution_count": null,
   "metadata": {},
   "outputs": [],
   "source": [
    "fig = plt.figure()\n",
    "ax = fig.add_axes([0,0,1,1])\n",
    "ax.bar(times_labels[0:3],times_values[0:3])\n",
    "ax.set_ylabel('sec')\n",
    "ax.set_title('train and test')\n",
    "plt.show()"
   ]
  },
  {
   "cell_type": "code",
   "execution_count": null,
   "metadata": {
    "scrolled": true
   },
   "outputs": [],
   "source": [
    "fig = plt.figure()\n",
    "ax = fig.add_axes([0,0,1,1])\n",
    "ax.bar(times_labels[3:],times_values[3:])\n",
    "ax.set_ylabel('sec')\n",
    "ax.set_title('train time split up')\n",
    "plt.show()"
   ]
  }
 ],
 "metadata": {
  "kernelspec": {
   "display_name": "Python 3",
   "language": "python",
   "name": "python3"
  },
  "language_info": {
   "codemirror_mode": {
    "name": "ipython",
    "version": 3
   },
   "file_extension": ".py",
   "mimetype": "text/x-python",
   "name": "python",
   "nbconvert_exporter": "python",
   "pygments_lexer": "ipython3",
   "version": "3.7.6"
  }
 },
 "nbformat": 4,
 "nbformat_minor": 2
}
